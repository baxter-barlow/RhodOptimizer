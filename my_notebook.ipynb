{
  "nbformat": 4,
  "nbformat_minor": 0,
  "metadata": {
    "colab": {
      "provenance": [],
      "gpuType": "T4",
      "include_colab_link": true
    },
    "kernelspec": {
      "name": "python3",
      "display_name": "Python 3"
    },
    "language_info": {
      "name": "python"
    },
    "gpuClass": "standard",
    "accelerator": "GPU"
  },
  "cells": [
    {
      "cell_type": "markdown",
      "metadata": {
        "id": "view-in-github",
        "colab_type": "text"
      },
      "source": [
        "<a href=\"https://colab.research.google.com/github/baxter-barlow/RhodOptimizer/blob/main/my_notebook.ipynb\" target=\"_parent\"><img src=\"https://colab.research.google.com/assets/colab-badge.svg\" alt=\"Open In Colab\"/></a>"
      ]
    },
    {
      "cell_type": "markdown",
      "source": [
        "### OpsiGen Notebook\n",
        "<img src=\"https://raw.githubusercontent.com/dina-lab3D/OpsiGen/colab/Images/main_figure.png\" width=\"500\">\n",
        "\n",
        "To predict the wavelength of a rhodopsin, follow the instructions in this colab notebook"
      ],
      "metadata": {
        "id": "hvAs7Gl1vygj",
        "pycharm": {
          "name": "#%% md\n"
        }
      }
    },
    {
      "cell_type": "code",
      "source": [
        "#@title Download RhoMax\n",
        "! rm -rf ./*\n",
        "! wget https://github.com/dina-lab3D/OpsiGen/archive/refs/heads/colab.zip\n",
        "! unzip colab.zip\n",
        "! cd OpsiGen-colab/"
      ],
      "metadata": {
        "id": "gkWPxcQHpCTT",
        "pycharm": {
          "name": "#%%\n"
        },
        "outputId": "d5bc9043-6cca-439e-c7d8-d66279d06e49",
        "colab": {
          "base_uri": "https://localhost:8080/"
        }
      },
      "execution_count": 1,
      "outputs": [
        {
          "output_type": "stream",
          "name": "stdout",
          "text": [
            "--2025-03-26 19:56:32--  https://github.com/dina-lab3D/OpsiGen/archive/refs/heads/colab.zip\n",
            "Resolving github.com (github.com)... 140.82.114.3\n",
            "Connecting to github.com (github.com)|140.82.114.3|:443... connected.\n",
            "HTTP request sent, awaiting response... 302 Found\n",
            "Location: https://codeload.github.com/dina-lab3D/OpsiGen/zip/refs/heads/colab [following]\n",
            "--2025-03-26 19:56:33--  https://codeload.github.com/dina-lab3D/OpsiGen/zip/refs/heads/colab\n",
            "Resolving codeload.github.com (codeload.github.com)... 140.82.113.10\n",
            "Connecting to codeload.github.com (codeload.github.com)|140.82.113.10|:443... connected.\n",
            "HTTP request sent, awaiting response... 200 OK\n",
            "Length: unspecified [application/zip]\n",
            "Saving to: ‘colab.zip’\n",
            "\n",
            "colab.zip               [   <=>              ]   2.48M  4.36MB/s    in 0.6s    \n",
            "\n",
            "2025-03-26 19:56:34 (4.36 MB/s) - ‘colab.zip’ saved [2596635]\n",
            "\n",
            "Archive:  colab.zip\n",
            "a7f6ac3b302235fe22d972388d633d9bfdb439b8\n",
            "   creating: OpsiGen-colab/\n",
            "  inflating: OpsiGen-colab/.gitignore  \n",
            "   creating: OpsiGen-colab/.idea/\n",
            "  inflating: OpsiGen-colab/.idea/.gitignore  \n",
            "   creating: OpsiGen-colab/.idea/inspectionProfiles/\n",
            "  inflating: OpsiGen-colab/.idea/inspectionProfiles/profiles_settings.xml  \n",
            "  inflating: OpsiGen-colab/.idea/misc.xml  \n",
            "  inflating: OpsiGen-colab/.idea/modules.xml  \n",
            "  inflating: OpsiGen-colab/.idea/other.xml  \n",
            "  inflating: OpsiGen-colab/.idea/rhodopsins.iml  \n",
            "  inflating: OpsiGen-colab/.idea/vcs.xml  \n",
            "   creating: OpsiGen-colab/Images/\n",
            "  inflating: OpsiGen-colab/Images/main_figure.png  \n",
            "  inflating: OpsiGen-colab/README.md  \n",
            "   creating: OpsiGen-colab/excel/\n",
            "  inflating: OpsiGen-colab/excel/data.xlsx  \n",
            "  inflating: OpsiGen-colab/excel/position_retinal.dat  \n",
            "  inflating: OpsiGen-colab/excel/sequences.fas  \n",
            "   creating: OpsiGen-colab/excel/splits/\n",
            " extracting: OpsiGen-colab/excel/splits/test0  \n",
            "  inflating: OpsiGen-colab/excel/splits/test1  \n",
            "  inflating: OpsiGen-colab/excel/splits/test2  \n",
            " extracting: OpsiGen-colab/excel/splits/test3  \n",
            "  inflating: OpsiGen-colab/excel/splits/test4  \n",
            "  inflating: OpsiGen-colab/excel/splits/test_all  \n",
            "  inflating: OpsiGen-colab/excel/splits/train0  \n",
            "  inflating: OpsiGen-colab/excel/splits/train1  \n",
            "  inflating: OpsiGen-colab/excel/splits/train2  \n",
            "  inflating: OpsiGen-colab/excel/splits/train3  \n",
            "  inflating: OpsiGen-colab/excel/splits/train4  \n",
            "  inflating: OpsiGen-colab/excel/splits/train_all  \n",
            "  inflating: OpsiGen-colab/excel/wavelength.dat  \n",
            "   creating: OpsiGen-colab/feature_maker/\n",
            "  inflating: OpsiGen-colab/feature_maker/.gitignore  \n",
            "  inflating: OpsiGen-colab/feature_maker/CMakeDoxyfile.in  \n",
            "  inflating: OpsiGen-colab/feature_maker/CMakeDoxygenDefaults.cmake  \n",
            "  inflating: OpsiGen-colab/feature_maker/CMakeLists.txt  \n",
            "  inflating: OpsiGen-colab/feature_maker/Makefile  \n",
            "  inflating: OpsiGen-colab/feature_maker/MolecularInterface.cc  \n",
            "  inflating: OpsiGen-colab/feature_maker/MolecularInterface.h  \n",
            "  inflating: OpsiGen-colab/feature_maker/README.md  \n",
            "   creating: OpsiGen-colab/feature_maker/add_amino_acid_features/\n",
            "   creating: OpsiGen-colab/feature_maker/add_amino_acid_features/__pycache__/\n",
            "  inflating: OpsiGen-colab/feature_maker/add_amino_acid_features/__pycache__/alignment.cpython-39.pyc  \n",
            "  inflating: OpsiGen-colab/feature_maker/add_amino_acid_features/__pycache__/alpha_fold_feature_parser.cpython-39.pyc  \n",
            "  inflating: OpsiGen-colab/feature_maker/add_amino_acid_features/__pycache__/protein.cpython-39.pyc  \n",
            "  inflating: OpsiGen-colab/feature_maker/add_amino_acid_features/alignment.py  \n",
            "  inflating: OpsiGen-colab/feature_maker/add_amino_acid_features/alpha_fold_feature_parser.py  \n",
            "  inflating: OpsiGen-colab/feature_maker/add_amino_acid_features/amino_acid_feature.csv  \n",
            "  inflating: OpsiGen-colab/feature_maker/add_amino_acid_features/amino_acid_feature_retina.csv  \n",
            "  inflating: OpsiGen-colab/feature_maker/add_amino_acid_features/amino_mapping  \n",
            "  inflating: OpsiGen-colab/feature_maker/add_amino_acid_features/main.py  \n",
            "  inflating: OpsiGen-colab/feature_maker/add_amino_acid_features/new_sequence.fas  \n",
            "  inflating: OpsiGen-colab/feature_maker/add_amino_acid_features/parse_amino_csv_to_np.py  \n",
            "  inflating: OpsiGen-colab/feature_maker/add_amino_acid_features/protein.py  \n",
            "  inflating: OpsiGen-colab/feature_maker/add_amino_acid_features/run.sh  \n",
            "  inflating: OpsiGen-colab/feature_maker/chem.lib  \n",
            "  inflating: OpsiGen-colab/feature_maker/cmake_install.cmake  \n",
            "  inflating: OpsiGen-colab/feature_maker/cnpy.cc  \n",
            "  inflating: OpsiGen-colab/feature_maker/cnpy.h  \n",
            "   creating: OpsiGen-colab/feature_maker/cnpy/\n",
            "   creating: OpsiGen-colab/feature_maker/cnpy/CMakeFiles/\n",
            "   creating: OpsiGen-colab/feature_maker/cnpy/CMakeFiles/3.13.4/\n",
            "  inflating: OpsiGen-colab/feature_maker/cnpy/CMakeFiles/3.13.4/CMakeCXXCompiler.cmake  \n",
            "  inflating: OpsiGen-colab/feature_maker/cnpy/CMakeFiles/3.13.4/CMakeDetermineCompilerABI_CXX.bin  \n",
            "  inflating: OpsiGen-colab/feature_maker/cnpy/CMakeFiles/3.13.4/CMakeSystem.cmake  \n",
            "   creating: OpsiGen-colab/feature_maker/cnpy/CMakeFiles/3.13.4/CompilerIdCXX/\n",
            "  inflating: OpsiGen-colab/feature_maker/cnpy/CMakeFiles/3.13.4/CompilerIdCXX/CMakeCXXCompilerId.cpp  \n",
            "  inflating: OpsiGen-colab/feature_maker/cnpy/CMakeFiles/3.13.4/CompilerIdCXX/a.out  \n",
            "  inflating: OpsiGen-colab/feature_maker/cnpy/CMakeFiles/CMakeDirectoryInformation.cmake  \n",
            "  inflating: OpsiGen-colab/feature_maker/cnpy/CMakeFiles/CMakeOutput.log  \n",
            "  inflating: OpsiGen-colab/feature_maker/cnpy/CMakeFiles/Makefile.cmake  \n",
            "  inflating: OpsiGen-colab/feature_maker/cnpy/CMakeFiles/Makefile2  \n",
            "  inflating: OpsiGen-colab/feature_maker/cnpy/CMakeFiles/TargetDirectories.txt  \n",
            "  inflating: OpsiGen-colab/feature_maker/cnpy/CMakeFiles/cmake.check_cache  \n",
            "   creating: OpsiGen-colab/feature_maker/cnpy/CMakeFiles/cnpy-static.dir/\n",
            "  inflating: OpsiGen-colab/feature_maker/cnpy/CMakeFiles/cnpy-static.dir/CXX.includecache  \n",
            "  inflating: OpsiGen-colab/feature_maker/cnpy/CMakeFiles/cnpy-static.dir/DependInfo.cmake  \n",
            "  inflating: OpsiGen-colab/feature_maker/cnpy/CMakeFiles/cnpy-static.dir/build.make  \n",
            "  inflating: OpsiGen-colab/feature_maker/cnpy/CMakeFiles/cnpy-static.dir/cmake_clean.cmake  \n",
            " extracting: OpsiGen-colab/feature_maker/cnpy/CMakeFiles/cnpy-static.dir/cmake_clean_target.cmake  \n",
            "  inflating: OpsiGen-colab/feature_maker/cnpy/CMakeFiles/cnpy-static.dir/cnpy.cpp.o  \n",
            "  inflating: OpsiGen-colab/feature_maker/cnpy/CMakeFiles/cnpy-static.dir/depend.internal  \n",
            "  inflating: OpsiGen-colab/feature_maker/cnpy/CMakeFiles/cnpy-static.dir/depend.make  \n",
            "  inflating: OpsiGen-colab/feature_maker/cnpy/CMakeFiles/cnpy-static.dir/flags.make  \n",
            "  inflating: OpsiGen-colab/feature_maker/cnpy/CMakeFiles/cnpy-static.dir/link.txt  \n",
            "  inflating: OpsiGen-colab/feature_maker/cnpy/CMakeFiles/cnpy-static.dir/progress.make  \n",
            "   creating: OpsiGen-colab/feature_maker/cnpy/CMakeFiles/cnpy.dir/\n",
            "  inflating: OpsiGen-colab/feature_maker/cnpy/CMakeFiles/cnpy.dir/CXX.includecache  \n",
            "  inflating: OpsiGen-colab/feature_maker/cnpy/CMakeFiles/cnpy.dir/DependInfo.cmake  \n",
            "  inflating: OpsiGen-colab/feature_maker/cnpy/CMakeFiles/cnpy.dir/build.make  \n",
            "  inflating: OpsiGen-colab/feature_maker/cnpy/CMakeFiles/cnpy.dir/cmake_clean.cmake  \n",
            "  inflating: OpsiGen-colab/feature_maker/cnpy/CMakeFiles/cnpy.dir/cnpy.cpp.o  \n",
            "  inflating: OpsiGen-colab/feature_maker/cnpy/CMakeFiles/cnpy.dir/depend.internal  \n",
            "  inflating: OpsiGen-colab/feature_maker/cnpy/CMakeFiles/cnpy.dir/depend.make  \n",
            "  inflating: OpsiGen-colab/feature_maker/cnpy/CMakeFiles/cnpy.dir/flags.make  \n",
            "  inflating: OpsiGen-colab/feature_maker/cnpy/CMakeFiles/cnpy.dir/link.txt  \n",
            "  inflating: OpsiGen-colab/feature_maker/cnpy/CMakeFiles/cnpy.dir/progress.make  \n",
            "   creating: OpsiGen-colab/feature_maker/cnpy/CMakeFiles/example1.dir/\n",
            "  inflating: OpsiGen-colab/feature_maker/cnpy/CMakeFiles/example1.dir/CXX.includecache  \n",
            "  inflating: OpsiGen-colab/feature_maker/cnpy/CMakeFiles/example1.dir/DependInfo.cmake  \n",
            "  inflating: OpsiGen-colab/feature_maker/cnpy/CMakeFiles/example1.dir/build.make  \n",
            "  inflating: OpsiGen-colab/feature_maker/cnpy/CMakeFiles/example1.dir/cmake_clean.cmake  \n",
            "  inflating: OpsiGen-colab/feature_maker/cnpy/CMakeFiles/example1.dir/depend.internal  \n",
            "  inflating: OpsiGen-colab/feature_maker/cnpy/CMakeFiles/example1.dir/depend.make  \n",
            "  inflating: OpsiGen-colab/feature_maker/cnpy/CMakeFiles/example1.dir/flags.make  \n",
            "  inflating: OpsiGen-colab/feature_maker/cnpy/CMakeFiles/example1.dir/link.txt  \n",
            "  inflating: OpsiGen-colab/feature_maker/cnpy/CMakeFiles/example1.dir/progress.make  \n",
            "  inflating: OpsiGen-colab/feature_maker/cnpy/CMakeFiles/feature_tests.bin  \n",
            "  inflating: OpsiGen-colab/feature_maker/cnpy/CMakeFiles/feature_tests.cxx  \n",
            " extracting: OpsiGen-colab/feature_maker/cnpy/CMakeFiles/progress.marks  \n",
            "  inflating: OpsiGen-colab/feature_maker/cnpy/CMakeLists.txt  \n",
            "  inflating: OpsiGen-colab/feature_maker/cnpy/CNPY.cbp  \n",
            "  inflating: OpsiGen-colab/feature_maker/cnpy/LICENSE  \n",
            "  inflating: OpsiGen-colab/feature_maker/cnpy/Makefile  \n",
            "  inflating: OpsiGen-colab/feature_maker/cnpy/README  \n",
            "  inflating: OpsiGen-colab/feature_maker/cnpy/cmake_install.cmake  \n",
            "  inflating: OpsiGen-colab/feature_maker/cnpy/cnpy.cc  \n",
            "  inflating: OpsiGen-colab/feature_maker/cnpy/cnpy.cpp  \n",
            "  inflating: OpsiGen-colab/feature_maker/cnpy/cnpy.h  \n",
            "  inflating: OpsiGen-colab/feature_maker/cnpy/example1.cpp  \n",
            "  inflating: OpsiGen-colab/feature_maker/cnpy/libcnpy.a  \n",
            "  inflating: OpsiGen-colab/feature_maker/cnpy/mat2npz  \n",
            "  inflating: OpsiGen-colab/feature_maker/cnpy/npy2mat  \n",
            "  inflating: OpsiGen-colab/feature_maker/cnpy/npz2mat  \n",
            "  inflating: OpsiGen-colab/feature_maker/interface.cc  \n",
            "  inflating: OpsiGen-colab/feature_maker/interface2grid  \n",
            "  inflating: OpsiGen-colab/feature_maker/interface_pc.cc  \n",
            "  inflating: OpsiGen-colab/my_notebook.ipynb  \n",
            "   creating: OpsiGen-colab/pipeline_auto/\n",
            "   creating: OpsiGen-colab/pipeline_auto/__pycache__/\n",
            "  inflating: OpsiGen-colab/pipeline_auto/__pycache__/aligner.cpython-39.pyc  \n",
            "  inflating: OpsiGen-colab/pipeline_auto/__pycache__/config.cpython-39.pyc  \n",
            "  inflating: OpsiGen-colab/pipeline_auto/__pycache__/cutter.cpython-39.pyc  \n",
            "  inflating: OpsiGen-colab/pipeline_auto/__pycache__/sequences.cpython-39.pyc  \n",
            "  inflating: OpsiGen-colab/pipeline_auto/add_amino_acid_features.sh  \n",
            "  inflating: OpsiGen-colab/pipeline_auto/aligner.py  \n",
            "  inflating: OpsiGen-colab/pipeline_auto/aligner_plus.py  \n",
            "  inflating: OpsiGen-colab/pipeline_auto/config.json  \n",
            "  inflating: OpsiGen-colab/pipeline_auto/config.py  \n",
            "  inflating: OpsiGen-colab/pipeline_auto/cut_24_amino_acids.py  \n",
            "   creating: OpsiGen-colab/pipeline_auto/cutted_parts/\n",
            "  inflating: OpsiGen-colab/pipeline_auto/cutted_parts/cutted_parts0.pdb  \n",
            "  inflating: OpsiGen-colab/pipeline_auto/cutter.py  \n",
            "   creating: OpsiGen-colab/pipeline_auto/dists/\n",
            "  inflating: OpsiGen-colab/pipeline_auto/dists/cutted_parts0_dists.npy  \n",
            "  inflating: OpsiGen-colab/pipeline_auto/edge_maker.py  \n",
            "  inflating: OpsiGen-colab/pipeline_auto/feature_maker.sh  \n",
            "   creating: OpsiGen-colab/pipeline_auto/features/\n",
            "  inflating: OpsiGen-colab/pipeline_auto/features/cutted_parts0.npz  \n",
            "   creating: OpsiGen-colab/pipeline_auto/mafft_alignments/\n",
            " extracting: OpsiGen-colab/pipeline_auto/mafft_alignments/text.txt  \n",
            "  inflating: OpsiGen-colab/pipeline_auto/main.py  \n",
            "  inflating: OpsiGen-colab/pipeline_auto/result.pdb  \n",
            "  inflating: OpsiGen-colab/pipeline_auto/run.sh  \n",
            "  inflating: OpsiGen-colab/pipeline_auto/run_mafft.sh  \n",
            "  inflating: OpsiGen-colab/pipeline_auto/sample_fasta.fasta  \n",
            "  inflating: OpsiGen-colab/pipeline_auto/sample_pdb.pdb  \n",
            "  inflating: OpsiGen-colab/pipeline_auto/sequences.py  \n",
            "   creating: OpsiGen-colab/predict/\n",
            "  inflating: OpsiGen-colab/predict/calculate_one_rhodopsin.py  \n",
            "  inflating: OpsiGen-colab/predict/calculate_one_rhodopsin.sh  \n",
            "  inflating: OpsiGen-colab/predict/conf_all  \n",
            "  inflating: OpsiGen-colab/predict/conf_all.cpy  \n",
            "  inflating: OpsiGen-colab/predict/excel_parser.py  \n",
            "  inflating: OpsiGen-colab/predict/main.py  \n",
            "  inflating: OpsiGen-colab/predict/means.npy  \n",
            "  inflating: OpsiGen-colab/predict/model_pickel  \n",
            "  inflating: OpsiGen-colab/predict/models.py  \n",
            "  inflating: OpsiGen-colab/predict/new_pdb_dataset.py  \n",
            "  inflating: OpsiGen-colab/predict/pdb_dataset.py  \n",
            "  inflating: OpsiGen-colab/predict/pdb_parser.py  \n",
            " extracting: OpsiGen-colab/predict/result.txt  \n",
            " extracting: OpsiGen-colab/predict/run.sh  \n",
            "  inflating: OpsiGen-colab/predict/run_one_rhodopsin.sh  \n",
            "  inflating: OpsiGen-colab/predict/stds.npy  \n",
            "  inflating: OpsiGen-colab/predict/test.py  \n",
            "  inflating: OpsiGen-colab/predict/test_prev.py  \n",
            "  inflating: OpsiGen-colab/predict/train.py  \n",
            "  inflating: OpsiGen-colab/requirements.txt  \n"
          ]
        }
      ]
    },
    {
      "cell_type": "code",
      "source": [
        "#@title Install Conda\n",
        "!pip install -q condacolab\n",
        "import condacolab\n",
        "condacolab.install()"
      ],
      "metadata": {
        "pycharm": {
          "name": "#%%\n"
        },
        "id": "0wdBYkhaBvPh",
        "outputId": "ea563f2d-383b-4832-a535-b39477f48956",
        "colab": {
          "base_uri": "https://localhost:8080/"
        }
      },
      "execution_count": 2,
      "outputs": [
        {
          "output_type": "stream",
          "name": "stdout",
          "text": [
            "⏬ Downloading https://github.com/jaimergp/miniforge/releases/download/24.11.2-1_colab/Miniforge3-colab-24.11.2-1_colab-Linux-x86_64.sh...\n",
            "📦 Installing...\n",
            "📌 Adjusting configuration...\n",
            "🩹 Patching environment...\n",
            "⏲ Done in 0:00:13\n",
            "🔁 Restarting kernel...\n"
          ]
        }
      ]
    },
    {
      "cell_type": "code",
      "source": [
        "#@title Install requirements\n",
        "! conda install bioconda::mafft\n",
        "! pip install \"numpy<2.0\"\n",
        "! pip install openpyxl\n",
        "! pip install Bio\n",
        "! pip install torch==1.13.0\n",
        "! pip install torch-geometric==2.2.0\n",
        "! pip install torch-scatter==2.1.0 -f https://data.pyg.org/whl/torch-1.13.0%2Bcu116.html\n",
        "! pip install torch-scatter==2.1.0 -f https://data.pyg.org/whl/torch-1.13.0%2Bcu116.html\n",
        "! pip install torch-sparse==0.6.16 -f https://data.pyg.org/whl/torch-1.13.0%2Bcu116.html\n",
        "! pip install torch-spline-conv==1.2.1 -f https://data.pyg.org/whl/torch-1.13.0%2Bcu116.html"
      ],
      "metadata": {
        "id": "x07v5tfaAz5s",
        "colab": {
          "base_uri": "https://localhost:8080/"
        },
        "outputId": "dfed7a14-ae68-4f71-8dbc-7c2cfe27b4c3",
        "pycharm": {
          "name": "#%%\n",
          "is_executing": true
        }
      },
      "execution_count": null,
      "outputs": [
        {
          "output_type": "stream",
          "name": "stdout",
          "text": [
            "Channels:\n",
            " - conda-forge\n",
            " - bioconda\n",
            "Platform: linux-64\n",
            "Collecting package metadata (repodata.json): - \b\b\\ \b\b| \b\b/ \b\b- \b\b\\ \b\b| \b\b/ \b\b- \b\b\\ \b\b| \b\bdone\n",
            "Solving environment: - \b\b\\ \b\b| \b\bdone\n",
            "\n",
            "\n",
            "==> WARNING: A newer version of conda exists. <==\n",
            "    current version: 24.11.3\n",
            "    latest version: 25.1.1\n",
            "\n",
            "Please update conda by running\n",
            "\n",
            "    $ conda update -n base -c conda-forge conda\n",
            "\n",
            "\n",
            "\n",
            "# All requested packages already installed.\n",
            "\n",
            "Requirement already satisfied: numpy<2.0 in /usr/local/lib/python3.11/site-packages (1.26.4)\n",
            "Requirement already satisfied: openpyxl in /usr/local/lib/python3.11/site-packages (3.1.5)\n",
            "Requirement already satisfied: et-xmlfile in /usr/local/lib/python3.11/site-packages (from openpyxl) (2.0.0)\n",
            "Requirement already satisfied: Bio in /usr/local/lib/python3.11/site-packages (1.7.1)\n",
            "Requirement already satisfied: biopython>=1.80 in /usr/local/lib/python3.11/site-packages (from Bio) (1.85)\n",
            "Requirement already satisfied: gprofiler-official in /usr/local/lib/python3.11/site-packages (from Bio) (1.0.0)\n",
            "Requirement already satisfied: mygene in /usr/local/lib/python3.11/site-packages (from Bio) (3.2.2)\n",
            "Requirement already satisfied: pandas in /usr/local/lib/python3.11/site-packages (from Bio) (2.2.3)\n",
            "Requirement already satisfied: pooch in /usr/local/lib/python3.11/site-packages (from Bio) (1.8.2)\n",
            "Requirement already satisfied: requests in /usr/local/lib/python3.11/site-packages (from Bio) (2.32.3)\n",
            "Requirement already satisfied: tqdm in /usr/local/lib/python3.11/site-packages (from Bio) (4.67.1)\n",
            "Requirement already satisfied: numpy in /usr/local/lib/python3.11/site-packages (from biopython>=1.80->Bio) (1.26.4)\n",
            "Requirement already satisfied: biothings-client>=0.2.6 in /usr/local/lib/python3.11/site-packages (from mygene->Bio) (0.4.1)\n",
            "Requirement already satisfied: python-dateutil>=2.8.2 in /usr/local/lib/python3.11/site-packages (from pandas->Bio) (2.9.0.post0)\n",
            "Requirement already satisfied: pytz>=2020.1 in /usr/local/lib/python3.11/site-packages (from pandas->Bio) (2025.2)\n",
            "Requirement already satisfied: tzdata>=2022.7 in /usr/local/lib/python3.11/site-packages (from pandas->Bio) (2025.2)\n",
            "Requirement already satisfied: platformdirs>=2.5.0 in /usr/local/lib/python3.11/site-packages (from pooch->Bio) (4.3.6)\n",
            "Requirement already satisfied: packaging>=20.0 in /usr/local/lib/python3.11/site-packages (from pooch->Bio) (24.2)\n",
            "Requirement already satisfied: charset_normalizer<4,>=2 in /usr/local/lib/python3.11/site-packages (from requests->Bio) (3.4.1)\n",
            "Requirement already satisfied: idna<4,>=2.5 in /usr/local/lib/python3.11/site-packages (from requests->Bio) (3.10)\n",
            "Requirement already satisfied: urllib3<3,>=1.21.1 in /usr/local/lib/python3.11/site-packages (from requests->Bio) (2.3.0)\n",
            "Requirement already satisfied: certifi>=2017.4.17 in /usr/local/lib/python3.11/site-packages (from requests->Bio) (2025.1.31)\n",
            "Requirement already satisfied: httpx>=0.22.0 in /usr/local/lib/python3.11/site-packages (from biothings-client>=0.2.6->mygene->Bio) (0.28.1)\n",
            "Requirement already satisfied: six>=1.5 in /usr/local/lib/python3.11/site-packages (from python-dateutil>=2.8.2->pandas->Bio) (1.17.0)\n",
            "Requirement already satisfied: anyio in /usr/local/lib/python3.11/site-packages (from httpx>=0.22.0->biothings-client>=0.2.6->mygene->Bio) (4.9.0)\n",
            "Requirement already satisfied: httpcore==1.* in /usr/local/lib/python3.11/site-packages (from httpx>=0.22.0->biothings-client>=0.2.6->mygene->Bio) (1.0.7)\n",
            "Requirement already satisfied: h11<0.15,>=0.13 in /usr/local/lib/python3.11/site-packages (from httpcore==1.*->httpx>=0.22.0->biothings-client>=0.2.6->mygene->Bio) (0.14.0)\n",
            "Requirement already satisfied: sniffio>=1.1 in /usr/local/lib/python3.11/site-packages (from anyio->httpx>=0.22.0->biothings-client>=0.2.6->mygene->Bio) (1.3.1)\n",
            "Requirement already satisfied: typing_extensions>=4.5 in /usr/local/lib/python3.11/site-packages (from anyio->httpx>=0.22.0->biothings-client>=0.2.6->mygene->Bio) (4.13.0)\n",
            "Collecting torch==1.13.0\n",
            "  Using cached torch-1.13.0-cp311-cp311-manylinux1_x86_64.whl.metadata (24 kB)\n",
            "Requirement already satisfied: typing-extensions in /usr/local/lib/python3.11/site-packages (from torch==1.13.0) (4.13.0)\n",
            "Collecting nvidia-cuda-runtime-cu11==11.7.99 (from torch==1.13.0)\n",
            "  Using cached nvidia_cuda_runtime_cu11-11.7.99-py3-none-manylinux1_x86_64.whl.metadata (1.6 kB)\n",
            "Collecting nvidia-cudnn-cu11==8.5.0.96 (from torch==1.13.0)\n",
            "  Using cached nvidia_cudnn_cu11-8.5.0.96-2-py3-none-manylinux1_x86_64.whl.metadata (1.6 kB)\n",
            "Collecting nvidia-cublas-cu11==11.10.3.66 (from torch==1.13.0)\n",
            "  Using cached nvidia_cublas_cu11-11.10.3.66-py3-none-manylinux1_x86_64.whl.metadata (1.6 kB)\n",
            "Collecting nvidia-cuda-nvrtc-cu11==11.7.99 (from torch==1.13.0)\n",
            "  Using cached nvidia_cuda_nvrtc_cu11-11.7.99-2-py3-none-manylinux1_x86_64.whl.metadata (1.5 kB)\n",
            "Requirement already satisfied: setuptools in /usr/local/lib/python3.11/site-packages (from nvidia-cublas-cu11==11.10.3.66->torch==1.13.0) (65.6.3)\n",
            "Requirement already satisfied: wheel in /usr/local/lib/python3.11/site-packages (from nvidia-cublas-cu11==11.10.3.66->torch==1.13.0) (0.45.1)\n",
            "Downloading torch-1.13.0-cp311-cp311-manylinux1_x86_64.whl (890.2 MB)\n",
            "\u001b[2K   \u001b[90m━━━━━━━━━━━━━━━━━━━━━━━━━━━━━━━━━━━━━━━━\u001b[0m \u001b[32m890.2/890.2 MB\u001b[0m \u001b[31m28.3 MB/s\u001b[0m eta \u001b[36m0:00:00\u001b[0m\n",
            "\u001b[?25hDownloading nvidia_cublas_cu11-11.10.3.66-py3-none-manylinux1_x86_64.whl (317.1 MB)\n",
            "\u001b[2K   \u001b[90m━━━━━━━━━━━━━━━━━━━━━━━━━━━━━━━━━━━━━━━━\u001b[0m \u001b[32m317.1/317.1 MB\u001b[0m \u001b[31m61.6 MB/s\u001b[0m eta \u001b[36m0:00:00\u001b[0m\n",
            "\u001b[?25hDownloading nvidia_cuda_nvrtc_cu11-11.7.99-2-py3-none-manylinux1_x86_64.whl (21.0 MB)\n",
            "\u001b[2K   \u001b[90m━━━━━━━━━━━━━━━━━━━━━━━━━━━━━━━━━━━━━━━━\u001b[0m \u001b[32m21.0/21.0 MB\u001b[0m \u001b[31m135.3 MB/s\u001b[0m eta \u001b[36m0:00:00\u001b[0m\n",
            "\u001b[?25hDownloading nvidia_cuda_runtime_cu11-11.7.99-py3-none-manylinux1_x86_64.whl (849 kB)\n",
            "\u001b[2K   \u001b[90m━━━━━━━━━━━━━━━━━━━━━━━━━━━━━━━━━━━━━━━━\u001b[0m \u001b[32m849.3/849.3 kB\u001b[0m \u001b[31m46.9 MB/s\u001b[0m eta \u001b[36m0:00:00\u001b[0m\n",
            "\u001b[?25hDownloading nvidia_cudnn_cu11-8.5.0.96-2-py3-none-manylinux1_x86_64.whl (557.1 MB)\n",
            "\u001b[2K   \u001b[90m━━━━━━━━━━━━━━━━━━━━━━━━━━━━━━━━━━━━━━━━\u001b[0m \u001b[32m557.1/557.1 MB\u001b[0m \u001b[31m19.4 MB/s\u001b[0m eta \u001b[36m0:00:00\u001b[0m\n",
            "\u001b[?25hInstalling collected packages: nvidia-cuda-runtime-cu11, nvidia-cuda-nvrtc-cu11, nvidia-cublas-cu11, nvidia-cudnn-cu11, torch\n"
          ]
        }
      ]
    },
    {
      "cell_type": "markdown",
      "source": [
        "## Upload Files\n",
        "1. Upload your fasta file to the pipeline_auto folder under the name \"sample_fasta.fasta\".\n",
        "2. Upload the corresponding PDB file to the pipeline_auto folder under the name \"sample_pdb.pdb\""
      ],
      "metadata": {
        "id": "RvyGAnpTvKN9",
        "pycharm": {
          "name": "#%% md\n"
        }
      }
    },
    {
      "cell_type": "code",
      "source": [
        "#@title Generate graph nodes and edges\n",
        "! cd ./OpsiGen-colab/pipeline_auto; ./run.sh"
      ],
      "metadata": {
        "id": "qrHlQdUp3PS-",
        "pycharm": {
          "name": "#%%\n"
        }
      },
      "execution_count": null,
      "outputs": []
    },
    {
      "cell_type": "code",
      "source": [
        "#@title predict wavelength\n",
        "! cd OpsiGen-colab/predict/; python -u calculate_one_rhodopsin.py ./conf_all ./model_pickel ./output.txt ../pipeline_auto/features/cutted_parts0.npz ../pipeline_auto/dists/cutted_parts0_dists.npy"
      ],
      "metadata": {
        "id": "WmH4q0xCLJAu",
        "pycharm": {
          "name": "#%%\n"
        }
      },
      "execution_count": null,
      "outputs": []
    },
    {
      "cell_type": "code",
      "source": [
        "! cat OpsiGen-colab/predict/output.txt"
      ],
      "metadata": {
        "id": "isNAlMpftub8",
        "pycharm": {
          "name": "#%%\n"
        }
      },
      "execution_count": null,
      "outputs": []
    }
  ]
}